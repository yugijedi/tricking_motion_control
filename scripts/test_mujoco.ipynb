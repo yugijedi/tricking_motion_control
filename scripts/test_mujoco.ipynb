{
 "cells": [
  {
   "cell_type": "code",
   "id": "initial_id",
   "metadata": {
    "collapsed": true
   },
   "source": [
    "import mujoco\n",
    "import numpy as np\n",
    "import matplotlib.pyplot as plt\n",
    "import mediapy as media\n",
    "%env MUJOCO_GL=egl\n",
    "\n",
    "# Other imports and helper functions\n",
    "import time\n",
    "import itertools\n",
    "import numpy as np\n",
    "\n",
    "# Graphics and plotting.\n",
    "import mediapy as media\n",
    "import ffmpeg\n",
    "import imageio\n",
    "import os\n",
    "import sys\n",
    "import matplotlib.pyplot as plt\n",
    "\n",
    "# More legible printing from numpy.\n",
    "np.set_printoptions(precision=3, suppress=True, linewidth=100)\n",
    "\n",
    "from IPython.display import clear_output\n",
    "clear_output()"
   ],
   "execution_count": 1,
   "outputs": []
  },
  {
   "metadata": {
    "ExecuteTime": {
     "end_time": "2025-07-14T12:18:25.875439Z",
     "start_time": "2025-07-14T12:18:24.933764Z"
    }
   },
   "cell_type": "code",
   "source": [
    "xml = \"\"\"\n",
    "<mujoco>\n",
    "  <worldbody>\n",
    "    <light name=\"top\" pos=\"0 0 1\"/>\n",
    "    <geom name=\"red_box\" type=\"box\" size=\".2 .2 .2\" rgba=\"1 0 0 1\"/>\n",
    "    <geom name=\"green_sphere\" pos=\".2 .2 .2\" size=\".1\" rgba=\"0 1 0 1\"/>\n",
    "  </worldbody>\n",
    "</mujoco>\n",
    "\"\"\"\n",
    "model = mujoco.MjModel.from_xml_string(xml)\n",
    "data = mujoco.MjData(model)\n",
    "\n",
    "with mujoco.Renderer(model) as renderer:\n",
    "  mujoco.mj_forward(model, data)\n",
    "  renderer.update_scene(data)\n",
    "\n",
    "  media.show_image(renderer.render())"
   ],
   "id": "31cc938ef868462d",
   "outputs": [
    {
     "data": {
      "text/plain": [
       "<IPython.core.display.HTML object>"
      ],
      "text/html": [
       "<table class=\"show_images\" style=\"border-spacing:0px;\"><tr><td style=\"padding:1px;\"><img width=\"320\" height=\"240\" style=\"image-rendering:auto; object-fit:cover;\" src=\"data:image/png;base64,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\"/></td></tr></table>"
      ]
     },
     "metadata": {},
     "output_type": "display_data"
    }
   ],
   "execution_count": 2
  },
  {
   "metadata": {
    "ExecuteTime": {
     "end_time": "2025-07-14T12:18:28.631729Z",
     "start_time": "2025-07-14T12:18:25.890316Z"
    }
   },
   "cell_type": "code",
   "source": [
    "duration = 3.8  # (seconds)\n",
    "framerate = 60  # (Hz)\n",
    "\n",
    "# Simulate and display video.\n",
    "frames = []\n",
    "mujoco.mj_resetData(model, data)  # Reset state and time.\n",
    "with mujoco.Renderer(model) as renderer:\n",
    "  while data.time < duration:\n",
    "    mujoco.mj_step(model, data)\n",
    "    if len(frames) < data.time * framerate:\n",
    "      renderer.update_scene(data)\n",
    "      pixels = renderer.render()\n",
    "      frames.append(pixels)\n",
    "\n",
    "#media.show_video(frames, fps=framerate)\n",
    "\n",
    "output_path = \"output.mp4\"\n",
    "imageio.mimsave(output_path, frames, fps=framerate)\n",
    "\n",
    "def open_video(path):\n",
    "    os.system(f\"xdg-open {path}\")\n",
    "\n",
    "open_video(\"output.mp4\")"
   ],
   "id": "6a173f60291af199",
   "outputs": [],
   "execution_count": 3
  },
  {
   "metadata": {
    "ExecuteTime": {
     "end_time": "2025-07-14T12:18:28.688569Z",
     "start_time": "2025-07-14T12:18:28.685980Z"
    }
   },
   "cell_type": "code",
   "source": "",
   "id": "ff3842b92b898343",
   "outputs": [],
   "execution_count": null
  }
 ],
 "metadata": {
  "kernelspec": {
   "display_name": "Python 3",
   "language": "python",
   "name": "python3"
  },
  "language_info": {
   "codemirror_mode": {
    "name": "ipython",
    "version": 2
   },
   "file_extension": ".py",
   "mimetype": "text/x-python",
   "name": "python",
   "nbconvert_exporter": "python",
   "pygments_lexer": "ipython2",
   "version": "2.7.6"
  }
 },
 "nbformat": 4,
 "nbformat_minor": 5
}
