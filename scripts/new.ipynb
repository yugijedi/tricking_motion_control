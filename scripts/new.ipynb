{
 "cells": [
  {
   "cell_type": "code",
   "id": "initial_id",
   "metadata": {
    "collapsed": true,
    "ExecuteTime": {
     "end_time": "2025-08-28T11:29:28.746122Z",
     "start_time": "2025-08-28T11:29:05.664356Z"
    }
   },
   "source": [
    "import mujoco, numpy as np, time\n",
    "import mujoco.viewer\n",
    "\n",
    "m = mujoco.MjModel.from_xml_path(\"resizable_box.xml\")\n",
    "d = mujoco.MjData(m)\n",
    "\n",
    "bid  = mujoco.mj_name2id(m, mujoco.mjtObj.mjOBJ_BODY,  \"box\")\n",
    "gid  = mujoco.mj_name2id(m, mujoco.mjtObj.mjOBJ_GEOM,  \"gbox\")\n",
    "jxid = mujoco.mj_name2id(m, mujoco.mjtObj.mjOBJ_JOINT, \"ux_joint\")\n",
    "jyid = mujoco.mj_name2id(m, mujoco.mjtObj.mjOBJ_JOINT, \"uy_joint\")\n",
    "jzid = mujoco.mj_name2id(m, mujoco.mjtObj.mjOBJ_JOINT, \"uz_joint\")\n",
    "qx, qy, qz = m.jnt_qposadr[jxid], m.jnt_qposadr[jyid], m.jnt_qposadr[jzid]\n",
    "\n",
    "free = next(i for i in range(m.njnt) if m.jnt_type[i]==mujoco.mjtJoint.mjJNT_FREE)\n",
    "free_q = m.jnt_qposadr[free]\n",
    "\n",
    "M    = 1.0\n",
    "EPS  = 1e-3   # min half-extent\n",
    "\n",
    "def apply_from_joints():\n",
    "    ux = max(float(d.qpos[qx]), EPS)\n",
    "    uy = max(float(d.qpos[qy]), EPS)\n",
    "    uz = max(float(d.qpos[qz]), EPS)\n",
    "\n",
    "    # resize COLLISION + visual geom\n",
    "    m.geom_size[gid, :] = [ux, uy, uz]\n",
    "\n",
    "    # solid box inertia with full lengths (2ux,2uy,2uz)\n",
    "    Ixx = (M/3.0)*(uy*uy + uz*uz)\n",
    "    Iyy = (M/3.0)*(ux*ux + uz*uz)\n",
    "    Izz = (M/3.0)*(ux*ux + uy*uy)\n",
    "    m.body_mass[bid]       = M\n",
    "    m.body_inertia[bid, :] = [Ixx, Iyy, Izz]\n",
    "\n",
    "    # keep it above the plane so it never starts intersecting\n",
    "    d.qpos[free_q + 2] = max(d.qpos[free_q + 2], uz + 1e-4)\n",
    "    mujoco.mj_forward(m, d)\n",
    "\n",
    "# pick initial “default” extents via controls (or set qpos directly)\n",
    "d.ctrl[:] = [0.30, 0.25, 0.40]\n",
    "d.qpos[2] = 2\n",
    "apply_from_joints()\n",
    "\n",
    "with mujoco.viewer.launch_passive(m, d) as v:\n",
    "    while v.is_running():\n",
    "        apply_from_joints()\n",
    "        mujoco.mj_step(m, d)\n",
    "        v.sync()\n",
    "        time.sleep(m.opt.timestep)\n"
   ],
   "outputs": [
    {
     "name": "stderr",
     "output_type": "stream",
     "text": [
      "/home/yugiero/tma_env/lib/python3.10/site-packages/glfw/__init__.py:917: GLFWError: (65548) b'Wayland: The platform does not provide the window position'\n",
      "  warnings.warn(message, GLFWError)\n"
     ]
    }
   ],
   "execution_count": 1
  }
 ],
 "metadata": {
  "kernelspec": {
   "display_name": "Python 3",
   "language": "python",
   "name": "python3"
  },
  "language_info": {
   "codemirror_mode": {
    "name": "ipython",
    "version": 2
   },
   "file_extension": ".py",
   "mimetype": "text/x-python",
   "name": "python",
   "nbconvert_exporter": "python",
   "pygments_lexer": "ipython2",
   "version": "2.7.6"
  }
 },
 "nbformat": 4,
 "nbformat_minor": 5
}
