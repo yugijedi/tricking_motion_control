{
 "cells": [
  {
   "cell_type": "code",
   "id": "initial_id",
   "metadata": {
    "collapsed": true,
    "ExecuteTime": {
     "end_time": "2025-08-15T21:10:04.052418Z",
     "start_time": "2025-08-15T21:10:03.500856Z"
    }
   },
   "source": [
    "import mujoco\n",
    "import mujoco.viewer\n",
    "import time\n",
    "import numpy as np\n",
    "import matplotlib.pyplot as plt\n",
    "import mediapy as media\n",
    "import imageio\n",
    "import os\n",
    "%env MUJOCO_GL=egl"
   ],
   "outputs": [
    {
     "name": "stdout",
     "output_type": "stream",
     "text": [
      "env: MUJOCO_GL=egl\n"
     ]
    }
   ],
   "execution_count": 1
  },
  {
   "metadata": {
    "ExecuteTime": {
     "end_time": "2025-08-15T21:10:04.302244Z",
     "start_time": "2025-08-15T21:10:04.079318Z"
    }
   },
   "cell_type": "code",
   "source": [
    "def ang_vel(t,T,Dphi,Dpsi,I_trans,I_long):\n",
    "    I_ratio = I_trans/I_long\n",
    "    if np.abs(Dpsi/Dphi) > (np.abs(I_ratio)-1):\n",
    "        print('The system you provided is in wobbling mode.')\n",
    "    #print(1/(I_ratio-1)*Dpsi/Dphi)\n",
    "    theta = np.arcsin(1/(I_ratio-1)*Dpsi/Dphi)\n",
    "    omega = np.zeros((len(t),3))\n",
    "    for i in range(len(t)):\n",
    "        h = Dphi*I_trans/T\n",
    "        omega[i] = h*np.array([np.cos(theta)*np.cos(Dpsi*t[i]/T)/I_trans,\n",
    "                             -np.cos(theta)*np.sin(Dpsi*t[i]/T)/I_trans,\n",
    "                             np.sin(theta)/I_long])\n",
    "    return omega\n",
    "\n",
    "def T_from_v0(v0,g=9.81,z0=0):\n",
    "    return (v0+np.sqrt(v0**2+2*g*z0))/g\n",
    "\n",
    "T = 2\n",
    "m = 0.1\n",
    "a = 1\n",
    "c = 0.4\n",
    "I_trans = 2*m*a**2\n",
    "I_long = 2*m*c**2\n",
    "Dphi = 1\n",
    "Dpsi = 1\n",
    "\n",
    "t = np.linspace(0,1,100)\n",
    "\n",
    "h = I_trans*Dphi/T\n",
    "omega = ang_vel(t,T,2*np.pi*Dphi,2*np.pi*Dpsi,I_trans,I_long)\n",
    "plt.plot(t,omega,'-',label='('+str(Dphi)+','+str(Dpsi)+')')\n",
    "print(omega[0])\n",
    "plt.legend()"
   ],
   "id": "5ad3a269a6944849",
   "outputs": [
    {
     "name": "stdout",
     "output_type": "stream",
     "text": [
      "[ 3.0840758  -0.          3.73999125]\n"
     ]
    },
    {
     "data": {
      "text/plain": [
       "<matplotlib.legend.Legend at 0x7feea42fc880>"
      ]
     },
     "execution_count": 2,
     "metadata": {},
     "output_type": "execute_result"
    },
    {
     "data": {
      "text/plain": [
       "<Figure size 640x480 with 1 Axes>"
      ],
      "image/png": "[encoded data removed]"
     },
     "metadata": {},
     "output_type": "display_data"
    }
   ],
   "execution_count": 2
  },
  {
   "metadata": {
    "ExecuteTime": {
     "end_time": "2025-08-15T21:10:07.140743Z",
     "start_time": "2025-08-15T21:10:04.332967Z"
    }
   },
   "cell_type": "code",
   "source": [
    "import mujoco, numpy as np, time\n",
    "\n",
    "model = mujoco.MjModel.from_xml_path(\"variable_box.xml\")\n",
    "data  = mujoco.MjData(model)\n",
    "\n",
    "# parameters\n",
    "M       = 1.0\n",
    "R_EDGE  = 0.02\n",
    "EPS     = 2e-2\n",
    "I_FLOOR = 1e-6\n",
    "\n",
    "# ids/addresses\n",
    "center_bid = mujoco.mj_name2id(model, mujoco.mjtObj.mjOBJ_BODY, \"center\")\n",
    "jx = mujoco.mj_name2id(model, mujoco.mjtObj.mjOBJ_JOINT, \"jx+\")\n",
    "jy = mujoco.mj_name2id(model, mujoco.mjtObj.mjOBJ_JOINT, \"jx+y+\")\n",
    "jz = mujoco.mj_name2id(model, mujoco.mjtObj.mjOBJ_JOINT, \"jx+y+z+\")\n",
    "jx_q, jy_q, jz_q = model.jnt_qposadr[jx], model.jnt_qposadr[jy], model.jnt_qposadr[jz]\n",
    "\n",
    "free_jid = next(i for i in range(model.njnt) if model.jnt_type[i] == mujoco.mjtJoint.mjJNT_FREE)\n",
    "free_q = model.jnt_qposadr[free_jid]   # root position starts at qpos[free_q : free_q+3]\n",
    "\n",
    "edge_names = [\n",
    "    \"edge_x_pp\",\"edge_x_pn\",\"edge_x_np\",\"edge_x_nn\",\n",
    "    \"edge_y_pp\",\"edge_y_pn\",\"edge_y_np\",\"edge_y_nn\",\n",
    "    \"edge_z_pp\",\"edge_z_pn\",\"edge_z_np\",\"edge_z_nn\",\n",
    "]\n",
    "edges = {nm: mujoco.mj_name2id(model, mujoco.mjtObj.mjOBJ_GEOM, nm) for nm in edge_names}\n",
    "\n",
    "def place_above_floor(uz):\n",
    "    data.qpos[free_q + 2] = float(uz) + R_EDGE + 1e-3  # z = uz + radius + margin\n",
    "\n",
    "def set_extents(ux, uy, uz):\n",
    "    data.qpos[jx_q], data.qpos[jy_q], data.qpos[jz_q] = ux, uy, uz\n",
    "    place_above_floor(uz)\n",
    "\n",
    "def update_edges_and_inertia():\n",
    "    ux = max(float(data.qpos[jx_q]), EPS)\n",
    "    uy = max(float(data.qpos[jy_q]), EPS)\n",
    "    uz = max(float(data.qpos[jz_q]), EPS)\n",
    "\n",
    "    # edges\n",
    "    for name, (y,z) in {\"edge_x_pp\":(+uy,+uz),\"edge_x_pn\":(+uy,-uz),\n",
    "                        \"edge_x_np\":(-uy,+uz),\"edge_x_nn\":(-uy,-uz)}.items():\n",
    "        gid = edges[name]; model.geom_pos[gid,:] = [0.0,y,z]; model.geom_size[gid,:] = [R_EDGE,ux,0.0]\n",
    "    for name, (x,z) in {\"edge_y_pp\":(+ux,+uz),\"edge_y_pn\":(+ux,-uz),\n",
    "                        \"edge_y_np\":(-ux,+uz),\"edge_y_nn\":(-ux,-uz)}.items():\n",
    "        gid = edges[name]; model.geom_pos[gid,:] = [x,0.0,z]; model.geom_size[gid,:] = [R_EDGE,uy,0.0]\n",
    "    for name, (x,y) in {\"edge_z_pp\":(+ux,+uy),\"edge_z_pn\":(+ux,-uy),\n",
    "                        \"edge_z_np\":(-ux,+uy),\"edge_z_nn\":(-ux,-uy)}.items():\n",
    "        gid = edges[name]; model.geom_pos[gid,:] = [x,y,0.0]; model.geom_size[gid,:] = [R_EDGE,uz,0.0]\n",
    "\n",
    "    # inertia of solid box (2ux × 2uy × 2uz)\n",
    "    Ixx = max((M/3.0)*(uy*uy + uz*uz), I_FLOOR)\n",
    "    Iyy = max((M/3.0)*(ux*ux + uz*uz), I_FLOOR)\n",
    "    Izz = max((M/3.0)*(ux*ux + uy*uy), I_FLOOR)\n",
    "    model.body_mass[center_bid]       = M\n",
    "    model.body_inertia[center_bid,:]  = [Ixx, Iyy, Izz]\n",
    "\n",
    "# ---- init before viewer ----\n",
    "model.opt.gravity = [0,0,-9.81]\n",
    "set_extents(0.30, 0.30, 0.50)    # half-extents\n",
    "update_edges_and_inertia()\n",
    "mujoco.mj_forward(model, data)\n",
    "\n",
    "# ---- run ----\n",
    "with mujoco.viewer.launch_passive(model, data) as viewer:\n",
    "    while viewer.is_running():\n",
    "        update_edges_and_inertia()     # keep edges + inertia synced\n",
    "        mujoco.mj_forward(model, data) # apply changes\n",
    "        mujoco.mj_step(model, data)\n",
    "        viewer.sync()\n",
    "        time.sleep(model.opt.timestep)\n"
   ],
   "id": "d0e7ec4cf957490a",
   "outputs": [
    {
     "name": "stderr",
     "output_type": "stream",
     "text": [
      "/home/yugiero/tma_env/lib/python3.10/site-packages/glfw/__init__.py:917: GLFWError: (65548) b'Wayland: The platform does not provide the window position'\n",
      "  warnings.warn(message, GLFWError)\n"
     ]
    },
    {
     "name": "stdout",
     "output_type": "stream",
     "text": [
      "WARNING: Nan, Inf or huge value in QVEL at DOF 0. The simulation is unstable. Time = 0.0070.\n",
      "\n",
      "WARNING: Nan, Inf or huge value in QACC at DOF 2. The simulation is unstable. Time = 0.0000.\n",
      "\n",
      "WARNING: Nan, Inf or huge value in QVEL at DOF 6. The simulation is unstable. Time = 0.0370.\n",
      "\n",
      "WARNING: Nan, Inf or huge value in QACC at DOF 8. The simulation is unstable. Time = 0.0150.\n",
      "\n",
      "WARNING: Nan, Inf or huge value in QVEL at DOF 6. The simulation is unstable. Time = 0.0370.\n",
      "\n",
      "WARNING: Nan, Inf or huge value in QACC at DOF 8. The simulation is unstable. Time = 0.0150.\n",
      "\n",
      "WARNING: Nan, Inf or huge value in QVEL at DOF 6. The simulation is unstable. Time = 0.0370.\n",
      "\n",
      "WARNING: Nan, Inf or huge value in QACC at DOF 8. The simulation is unstable. Time = 0.0150.\n",
      "\n",
      "WARNING: Nan, Inf or huge value in QVEL at DOF 6. The simulation is unstable. Time = 0.0370.\n",
      "\n",
      "WARNING: Nan, Inf or huge value in QACC at DOF 8. The simulation is unstable. Time = 0.0150.\n",
      "\n",
      "WARNING: Nan, Inf or huge value in QVEL at DOF 6. The simulation is unstable. Time = 0.0370.\n",
      "\n",
      "WARNING: Nan, Inf or huge value in QACC at DOF 8. The simulation is unstable. Time = 0.0150.\n",
      "\n",
      "WARNING: Nan, Inf or huge value in QVEL at DOF 6. The simulation is unstable. Time = 0.0370.\n",
      "\n",
      "WARNING: Nan, Inf or huge value in QACC at DOF 8. The simulation is unstable. Time = 0.0150.\n",
      "\n",
      "WARNING: Nan, Inf or huge value in QVEL at DOF 6. The simulation is unstable. Time = 0.0370.\n",
      "\n",
      "WARNING: Nan, Inf or huge value in QACC at DOF 8. The simulation is unstable. Time = 0.0150.\n",
      "\n",
      "WARNING: Nan, Inf or huge value in QVEL at DOF 6. The simulation is unstable. Time = 0.0370.\n",
      "\n",
      "WARNING: Nan, Inf or huge value in QACC at DOF 8. The simulation is unstable. Time = 0.0150.\n",
      "\n",
      "WARNING: Nan, Inf or huge value in QVEL at DOF 6. The simulation is unstable. Time = 0.0370.\n",
      "\n",
      "WARNING: Nan, Inf or huge value in QACC at DOF 8. The simulation is unstable. Time = 0.0150.\n",
      "\n",
      "WARNING: Nan, Inf or huge value in QVEL at DOF 6. The simulation is unstable. Time = 0.0370.\n",
      "\n",
      "WARNING: Nan, Inf or huge value in QACC at DOF 8. The simulation is unstable. Time = 0.0150.\n",
      "\n",
      "WARNING: Nan, Inf or huge value in QVEL at DOF 6. The simulation is unstable. Time = 0.0370.\n",
      "\n",
      "WARNING: Nan, Inf or huge value in QACC at DOF 8. The simulation is unstable. Time = 0.0150.\n",
      "\n"
     ]
    }
   ],
   "execution_count": 3
  },
  {
   "metadata": {
    "ExecuteTime": {
     "end_time": "2025-08-15T21:10:07.216909Z",
     "start_time": "2025-08-15T21:10:07.213699Z"
    }
   },
   "cell_type": "code",
   "source": "",
   "id": "6ffc12b94467cfad",
   "outputs": [],
   "execution_count": null
  }
 ],
 "metadata": {
  "kernelspec": {
   "display_name": "Python 3",
   "language": "python",
   "name": "python3"
  },
  "language_info": {
   "codemirror_mode": {
    "name": "ipython",
    "version": 2
   },
   "file_extension": ".py",
   "mimetype": "text/x-python",
   "name": "python",
   "nbconvert_exporter": "python",
   "pygments_lexer": "ipython2",
   "version": "2.7.6"
  }
 },
 "nbformat": 4,
 "nbformat_minor": 5
}
