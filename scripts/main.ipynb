{
 "cells": [
  {
   "cell_type": "code",
   "id": "initial_id",
   "metadata": {
    "collapsed": true,
    "ExecuteTime": {
     "end_time": "2025-08-29T16:05:01.410662Z",
     "start_time": "2025-08-29T16:05:01.402823Z"
    }
   },
   "source": [
    "import numpy as np\n",
    "from sim.env_mj import MujocoEnv\n",
    "from sim.integrators import LGVI\n",
    "\n",
    "env = MujocoEnv(\n",
    "    model_path=\"../models/resizable_box.xml\",\n",
    "    dt=0.002,\n",
    "    integrator=LGVI(m=1.0, J=np.diag([0.01,0.01,0.01])),\n",
    "    mode=\"custom\",\n",
    "    base_body_name=\"box\",\n",
    ")\n",
    "obs, *_ = env.step(np.array([0.30, 0.25, 0.40]))"
   ],
   "outputs": [],
   "execution_count": 2
  }
 ],
 "metadata": {
  "kernelspec": {
   "display_name": "Python 3",
   "language": "python",
   "name": "python3"
  },
  "language_info": {
   "codemirror_mode": {
    "name": "ipython",
    "version": 2
   },
   "file_extension": ".py",
   "mimetype": "text/x-python",
   "name": "python",
   "nbconvert_exporter": "python",
   "pygments_lexer": "ipython2",
   "version": "2.7.6"
  }
 },
 "nbformat": 4,
 "nbformat_minor": 5
}
