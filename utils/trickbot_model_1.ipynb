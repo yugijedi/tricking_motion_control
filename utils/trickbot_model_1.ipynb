{
 "cells": [
  {
   "cell_type": "code",
   "id": "initial_id",
   "metadata": {
    "collapsed": true,
    "ExecuteTime": {
     "end_time": "2025-07-14T12:30:48.449421Z",
     "start_time": "2025-07-14T12:30:48.443801Z"
    }
   },
   "source": [
    "%env MUJOCO_GL=egl\n",
    "import mujoco\n",
    "import imageio\n",
    "import os"
   ],
   "outputs": [
    {
     "name": "stdout",
     "output_type": "stream",
     "text": [
      "env: MUJOCO_GL=egl\n"
     ]
    }
   ],
   "execution_count": 8
  },
  {
   "metadata": {
    "ExecuteTime": {
     "end_time": "2025-07-14T12:38:34.722432Z",
     "start_time": "2025-07-14T12:38:34.715945Z"
    }
   },
   "cell_type": "code",
   "source": [
    "xml = \"\"\"\n",
    "<mujoco model=\"free_floating_robot\">\n",
    "  <compiler angle=\"radian\"/>\n",
    "  <option gravity=\"0 0 0\"/>\n",
    "\n",
    "  <worldbody>\n",
    "    <!-- Free-floating trunk -->\n",
    "    <body name=\"trunk\" pos=\"0 0 1\">\n",
    "      <freejoint/>\n",
    "      <geom type=\"box\" size=\"0.1 0.1 0.2\" rgba=\"0.8 0.3 0.3 1\"/>\n",
    "\n",
    "      <!-- Left leg -->\n",
    "      <body name=\"left_leg\" pos=\"0.1 0 0\">\n",
    "        <joint name=\"left_hip\" type=\"ball\" pos=\"0 0 0\"/>\n",
    "        <geom type=\"capsule\" fromto=\"0 0 0 0 0 -0.4\" size=\"0.03\" rgba=\"0.2 0.5 0.8 1\"/>\n",
    "      </body>\n",
    "\n",
    "      <!-- Right leg -->\n",
    "      <body name=\"right_leg\" pos=\"-0.1 0 0\">\n",
    "        <joint name=\"right_hip\" type=\"ball\" pos=\"0 0 0\"/>\n",
    "        <geom type=\"capsule\" fromto=\"0 0 0 0 0 -0.4\" size=\"0.03\" rgba=\"0.2 0.8 0.5 1\"/>\n",
    "      </body>\n",
    "    </body>\n",
    "  </worldbody>\n",
    "\n",
    "</mujoco>\n",
    "\n",
    "\n",
    "\"\"\"\n",
    "\n",
    "model = mujoco.MjModel.from_xml_string(xml)\n",
    "data = mujoco.MjData(model)"
   ],
   "id": "5c3349b6bbfa72f4",
   "outputs": [],
   "execution_count": 15
  },
  {
   "metadata": {
    "ExecuteTime": {
     "end_time": "2025-07-14T12:38:36.144513Z",
     "start_time": "2025-07-14T12:38:35.613858Z"
    }
   },
   "cell_type": "code",
   "source": [
    "duration = 3.8  # (seconds)\n",
    "framerate = 60  # (Hz)\n",
    "\n",
    "# Simulate and display video.\n",
    "frames = []\n",
    "mujoco.mj_resetData(model, data)  # Reset state and time.\n",
    "with mujoco.Renderer(model) as renderer:\n",
    "  while data.time < duration:\n",
    "    mujoco.mj_step(model, data)\n",
    "    if len(frames) < data.time * framerate:\n",
    "      renderer.update_scene(data)\n",
    "      pixels = renderer.render()\n",
    "      frames.append(pixels)\n",
    "\n",
    "#media.show_video(frames, fps=framerate)\n",
    "\n",
    "output_path = \"output.mp4\"\n",
    "imageio.mimsave(output_path, frames, fps=framerate)\n",
    "\n",
    "def open_video(path):\n",
    "    os.system(f\"xdg-open {path}\")\n",
    "\n",
    "open_video(\"output.mp4\")"
   ],
   "id": "772df9b9314ebf47",
   "outputs": [],
   "execution_count": 16
  },
  {
   "metadata": {
    "ExecuteTime": {
     "end_time": "2025-07-14T12:19:31.811385Z",
     "start_time": "2025-07-14T12:19:31.809306Z"
    }
   },
   "cell_type": "code",
   "source": "",
   "id": "bab0d1327765d9bf",
   "outputs": [
    {
     "name": "stderr",
     "output_type": "stream",
     "text": [
      "[00005f4eb5595580] main libvlc: Running vlc with the default interface. Use 'cvlc' to use vlc without interface.\n",
      "Warning: Ignoring XDG_SESSION_TYPE=wayland on Gnome. Use QT_QPA_PLATFORM=wayland to run on Wayland anyway.\n"
     ]
    }
   ],
   "execution_count": null
  }
 ],
 "metadata": {
  "kernelspec": {
   "display_name": "Python 3",
   "language": "python",
   "name": "python3"
  },
  "language_info": {
   "codemirror_mode": {
    "name": "ipython",
    "version": 2
   },
   "file_extension": ".py",
   "mimetype": "text/x-python",
   "name": "python",
   "nbconvert_exporter": "python",
   "pygments_lexer": "ipython2",
   "version": "2.7.6"
  }
 },
 "nbformat": 4,
 "nbformat_minor": 5
}
